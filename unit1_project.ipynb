{
 "cells": [
  {
   "cell_type": "markdown",
   "metadata": {},
   "source": [
    "<img src=\"http://imgur.com/1ZcRyrc.png\" style=\"float: left; margin: 20px; height: 55px\">\n",
    "\n",
    "# Project 1: Python Coding Exercises\n",
    "\n",
    "_Authors: Joseph Nelson (DC) _\n",
    "\n",
    "---"
   ]
  },
  {
   "cell_type": "markdown",
   "metadata": {},
   "source": [
    "The following code challenges are drawn from common exercises used in technical interviews.\n",
    "\n",
    "Please note that there may be several ways to approach each challenge. If you get stuck, try mapping out your approach in pseudocode first. Finally, while solutions to problems like these may be found online, remember that if you copy/paste code that you can't explain, you'll be missing out on the point of the project. The only way to truly learn a new skill is through practice, trial, and error - we can only help you improve by understanding where you are having trouble."
   ]
  },
  {
   "cell_type": "markdown",
   "metadata": {},
   "source": [
    "### Challenge 1: Largest Palindrome\n",
    "A palindromic number reads the same both ways. For example, 1234321 is a palindrome. The largest palindrome made from the product of two two-digit numbers is 9009 = 91 × 99. Find the largest palindrome made from the product of two three-digit numbers. Afterward, write a brief explanation walking through your code's logic in markdown."
   ]
  },
  {
   "cell_type": "code",
   "execution_count": 11,
   "metadata": {
    "collapsed": true
   },
   "outputs": [
    {
     "name": "stdout",
     "output_type": "stream",
     "text": [
      " largest palindrome made from the product of 2 three-digit numbers is [906609, 913, 993]\n"
     ]
    }
   ],
   "source": [
    "# function 1\n",
    "def reverse_string(string):\n",
    "    string_length = len(string)\n",
    "    string_reversed=\"\"\n",
    "    for index in range(string_length-1,-1,-1):\n",
    "        string_reversed += string[index]\n",
    "    return string_reversed\n",
    "\n",
    "# function 2\n",
    "def is_palindrome(string):\n",
    "    return string == reverse_string(string)\n",
    "\n",
    "\n",
    "#code snippet to calculate largest panindrome\n",
    "largest_palindrome = [[0,0,0]]\n",
    "\n",
    "for number_1 in range(100,1000):\n",
    "    for number_2 in range(100,1000):\n",
    "            value = number_1 * number_2\n",
    "            if(is_palindrome(str(value)) and value > largest_palindrome[0][0] ):\n",
    "               largest_palindrome[0] = list((value,number_1,number_2))\n",
    "\n",
    "\n",
    "print('Largest palindrome made from the product of 2 three-digit numbers is',largest_palindrome[0])\n",
    "\n",
    "\n"
   ]
  },
  {
   "cell_type": "markdown",
   "metadata": {},
   "source": [
    "Answer is 906609. This value is a result of 913 * 993.\n",
    "\n",
    "I have writtten 2 supporting functions and a code snippetto identify the answer. \n",
    "\n",
    "function 1 - reverse_string\n",
    "   - this functions takes a string value as input parameter and retuns the reverse value of that string. \n",
    "   - it implements a for loop to navigate through the input parameter character by character in reverse order, using the range function with a step alue of -1.\n",
    "   \n",
    "function 2 - is_palindrome\n",
    "   - this function takes a string value as input parameter and retuns boolean value indicating if the input parameter is a palindrome or not.\n",
    "   - it calls the function 'reverse_string' to get the reverse value of the input parameter and compares the two to check if they are identical\n",
    "   \n",
    "code snippet\n",
    "   - this code snippenis used to calculate and identify the largest palindrome made from the product of two three-digit numbers.\n",
    "   - the smallest 3 digit number is 100 and the largest is 999\n",
    "   - 2 nested for loops are used to calculate the product of every possible combination of 2 three-digit numbers. \n",
    "   - each for loop use the range function with a default step value of 1 to loop throug all the possible conbinations between 100 and 999, inclusive.\n",
    "   - product of every combination is checked to see if that value is a panindrome by calling the 'is_palindrome'function and if so this value id greater than the palindrome identified so far \n",
    "   - if the product of the current combinaton is a palindrome and is greater than the previously held value, this value and the 2 three-digit numbers used to calculate the value are stored in a list object 'largest_palindrome'\n",
    "   - length of the list object is 1 and it implements the concept of 'list of list' to hold the product and the 2  three-digit numbers used to caculate the product\n",
    "   - the values stored in the list object 'largest_palindrome' when the 2 nested for loops completes execution is considered the largest palindrome made from the product of two three-digit numbers.\n",
    "\n",
    "\n"
   ]
  },
  {
   "cell_type": "markdown",
   "metadata": {},
   "source": [
    "\n",
    "### Challenge 2: Summation of Primes\n",
    "The sum of the primes below 10 is 2 + 3 + 5 + 7 = 17. Find the sum of all the primes below 2,000. Afterward, write a brief explanation walking through your code's logic in markdown."
   ]
  },
  {
   "cell_type": "code",
   "execution_count": 10,
   "metadata": {
    "collapsed": true
   },
   "outputs": [
    {
     "name": "stdout",
     "output_type": "stream",
     "text": [
      "sum of primes below 2000 is 277050\n"
     ]
    }
   ],
   "source": [
    "def is_prime(number):\n",
    "    if number >= 2:\n",
    "        for value in range(2,number):\n",
    "            if (number%value)==0:\n",
    "                return False\n",
    "    else:\n",
    "        return False\n",
    "    return True\n",
    "\n",
    "sum_of_primes = 0\n",
    "    \n",
    "for number in range(2,2000):\n",
    "    if is_prime(number):\n",
    "        sum_of_primes +=number\n",
    "\n",
    "print('Sum of primes below 2000 is',sum_of_primes)"
   ]
  },
  {
   "cell_type": "markdown",
   "metadata": {},
   "source": [
    "Answer is 277050.\n",
    "\n",
    "I have writtten a supporting functions and a code snippetto compute the answer. \n",
    "\n",
    "supporting function - is_prime\n",
    "   - this functions takes a number as an input parameter and returns true is its a prime number and fale if not. \n",
    "   - it first check if the input parameter is number 2 or a higher value, which is the basic condition for a prime number\n",
    "   - then it runs a for loop for the range between 2 & the input parameter, calculating the modulo to fid out if any number between 2 and the input prameter will devide the number evenly without remainder. i.e. if any combination found to match this the input prameter is not a pirme number\n",
    "    \n",
    "    \n",
    "code snippet\n",
    "   - first it declares a variable to hold the sum of the prime numbers and initialized it to 0\n",
    "   - then it runs a for loop between 2 and 2000 calling the is_prime function to check if each number in the for loop iteration step is a prime number or not. \n",
    "   - if a prime number is found its added to the variabe 'sum_of_primes'\n",
    "   - finally, upon exit of the for loop the 'sum_of_primes' is displayed\n",
    "    \n",
    "    \n",
    "\n"
   ]
  },
  {
   "cell_type": "markdown",
   "metadata": {},
   "source": [
    "### Challenge 3: Multiples of 3 and 5\n",
    "If we list all of the natural numbers below 10 that are multiples of 3 or 5, we get 3, 5, 6, and 9. The sum of these multiples is 23. Find the sum of all the multiples of 3 or 5 below 1,000. Afterward, write a brief explanation walking through your code's logic in markdown."
   ]
  },
  {
   "cell_type": "code",
   "execution_count": 6,
   "metadata": {
    "collapsed": true
   },
   "outputs": [
    {
     "name": "stdout",
     "output_type": "stream",
     "text": [
      "Sum of all the multiples of 3 or 5 below 1000 is 233168\n"
     ]
    }
   ],
   "source": [
    "sum_of_multiples = 0\n",
    "for number in range(0,1000):\n",
    "    if (number%3 == 0 or number%5 == 0):\n",
    "        sum_of_multiples +=number\n",
    "\n",
    "print('Sum of all the multiples of 3 or 5 below 1000 is',sum_of_multiples)\n"
   ]
  },
  {
   "cell_type": "markdown",
   "metadata": {},
   "source": [
    "Answer is 233168.\n",
    "\n",
    "I have writtten a simple a code snippet to compute the answer.\n",
    "\n",
    "   - first it declares a variable 'sum_of_multiples' to hold the sum of the matching natural numbers and initialized it to 0\n",
    "   - then it runs a for loop between the range 0 and 1000.\n",
    "   - each number in this range is checked to see if it could be devided by 3 or 5 without any remainders using the modulo (%) operator. If so, the number is added to the variable 'sum_of_multiples'\n",
    "   - finally, upon exit of the for loop the 'sum_of_multiples' is displayed\n"
   ]
  },
  {
   "cell_type": "markdown",
   "metadata": {},
   "source": [
    "### Challenge 4: String Compressor\n",
    "Implement a method to perform basic string compression using the counts of repeated characters. (This is called run-length encoding.) For example, the string \"aabcccccaaa\" would become a2b1c5a3. If the “compressed” string would not become smaller than the original string, your method should return the original string. You can assume the string has only uppercase and lowercase letters (a–z). Specify whether your solution is case sensitive or case insensitive and what you would need to change to make it the other. Afterward, write a brief explanation walking through your code's logic in markdown."
   ]
  },
  {
   "cell_type": "code",
   "execution_count": 42,
   "metadata": {
    "collapsed": true
   },
   "outputs": [
    {
     "name": "stdout",
     "output_type": "stream",
     "text": [
      "a2sd4fgh4jkw3e2v\n"
     ]
    }
   ],
   "source": [
    "\n",
    "\n",
    "def compress_string(string_to_compress,is_case_sensitive):\n",
    "\n",
    "    letters = 'abcdefghijklmnopqrstuvwxyz'\n",
    "    string_compressed = ''\n",
    "    \n",
    "    for char in string_to_compress:\n",
    "        if(char.lower() not in letters):\n",
    "            raise ValueError\n",
    " \n",
    "    if len(string_to_compress) <= 1:\n",
    "        return string_compressed\n",
    "\n",
    "    if(not is_case_sensitive):\n",
    "        string_to_compress = string_to_compress.lower()\n",
    "    \n",
    "    previous_char = string_to_compress[0]\n",
    "    char_count = 1\n",
    "\n",
    "    for pos in range(1,len(string_to_compress)):\n",
    "        if(string_to_compress[pos]==previous_char):\n",
    "            char_count += 1\n",
    "        else:\n",
    "            if(char_count ==1):\n",
    "                string_compressed += string_to_compress[pos-1]\n",
    "            else:\n",
    "                string_compressed += string_to_compress[pos-1]+ str(char_count)\n",
    "                char_count = 1\n",
    "            previous_char = string_to_compress[pos]\n",
    "\n",
    "    if(char_count ==1):\n",
    "        string_compressed += string_to_compress[pos]\n",
    "    else:\n",
    "        string_compressed += string_to_compress[pos-1]+ str(char_count)\n",
    "\n",
    "\n",
    "    if(len(string_to_compress)<= len(string_compressed)):\n",
    "        return string_to_compress\n",
    "    else:\n",
    "        return string_compressed\n",
    "            \n",
    "\n",
    "print(compress_string('aasddDDfghhhhjkwwweev',False))\n",
    "\n",
    "\n"
   ]
  },
  {
   "cell_type": "code",
   "execution_count": null,
   "metadata": {},
   "outputs": [],
   "source": []
  },
  {
   "cell_type": "markdown",
   "metadata": {},
   "source": [
    "I have written a function 'compress_string' to implement this string compression\n",
    " - this function takes 2 input parameters, first is the str type parameter 'string_to_compress' representing the string to compress and the second 'is_case_sensitive' a boolean type parameter indicting if the compression is case sensitive or not\n",
    " - within the function \n",
    "       - first all valid alphabet letters are assigned to a variable 'letter' to be used for valdation purposes\n",
    "       - then a new varable to hold the compressed string 'string_compressed' is declared and initialised to empty.\n",
    "       - then, the code checks if the input parameter 'string_to_compress' includes any not aphabet charaters and if so exit the function by raising a ValueError\n",
    "       - then, the code checks if the legnth of the string_to_compress' is lessthan or equal to 1, if so there is no need to compress the string. Thus returns the original string and exit the function\n",
    "       - then, if the 'is_case_sensitive' is set to false the 'string_to_compress' id converted to lower case\n",
    "       - then variables 'previous_char' and 'char_count' are initialised with the first character of the 'string_to_compress' and character count to 1 respectively to be used within the following for loop. \n",
    "       - then a for loop id implemented to raverse through the 'string_to_compress' from its 2nd character (as first is already loaded above) to the last \n",
    "       - within the for loop, \n",
    "             - if the previous character is same as current character the character counter is increased by 1. \n",
    "             - else, if the character count of the current character is 1 ( i.e. current character has not repeated), current character is apended to the variable 'string_compressed'\n",
    "             - else (i.e character has repeasted), the current character in concerned and the count of the occurences of that character is apended to the variable 'string_compressed'. 'char_count' is also reset to 1 to start counting of a new character series.\n",
    "             - previouse_char is then assinged with the current char inpreperation for the next iteration for the for loop\n",
    "       - same condition above is implemented outside the for loop to ensure last character set to compressed correctly. \n",
    "       - finally, the lenght of the variables 'string_to_compress' and 'string_compressed' are compared and if the lenght of the original is less than or same as the compressed, original string is returned. else the compressed string is returned.\n",
    "             \n",
    " "
   ]
  },
  {
   "cell_type": "markdown",
   "metadata": {},
   "source": [
    "### Challenge 5: FizzBuzz\n",
    "\n",
    "Write a program that prints all of the numbers from 1 to 100. For multiples of 3, instead of the number, print \"Fizz;\" for multiples of 5, print \"Buzz.\" For numbers that are multiples of both 3 and 5, print \"FizzBuzz.\" Afterward, write a brief explanation walking through your code's logic in markdown."
   ]
  },
  {
   "cell_type": "code",
   "execution_count": 1,
   "metadata": {
    "collapsed": true
   },
   "outputs": [
    {
     "name": "stdout",
     "output_type": "stream",
     "text": [
      "1\n",
      "2\n",
      "Fizz\n",
      "4\n",
      "Buzz\n",
      "Fizz\n",
      "7\n",
      "8\n",
      "Fizz\n",
      "Buzz\n",
      "11\n",
      "Fizz\n",
      "13\n",
      "14\n",
      "FizzBuzz\n",
      "16\n",
      "17\n",
      "Fizz\n",
      "19\n",
      "Buzz\n",
      "Fizz\n",
      "22\n",
      "23\n",
      "Fizz\n",
      "Buzz\n",
      "26\n",
      "Fizz\n",
      "28\n",
      "29\n",
      "FizzBuzz\n",
      "31\n",
      "32\n",
      "Fizz\n",
      "34\n",
      "Buzz\n",
      "Fizz\n",
      "37\n",
      "38\n",
      "Fizz\n",
      "Buzz\n",
      "41\n",
      "Fizz\n",
      "43\n",
      "44\n",
      "FizzBuzz\n",
      "46\n",
      "47\n",
      "Fizz\n",
      "49\n",
      "Buzz\n",
      "Fizz\n",
      "52\n",
      "53\n",
      "Fizz\n",
      "Buzz\n",
      "56\n",
      "Fizz\n",
      "58\n",
      "59\n",
      "FizzBuzz\n",
      "61\n",
      "62\n",
      "Fizz\n",
      "64\n",
      "Buzz\n",
      "Fizz\n",
      "67\n",
      "68\n",
      "Fizz\n",
      "Buzz\n",
      "71\n",
      "Fizz\n",
      "73\n",
      "74\n",
      "FizzBuzz\n",
      "76\n",
      "77\n",
      "Fizz\n",
      "79\n",
      "Buzz\n",
      "Fizz\n",
      "82\n",
      "83\n",
      "Fizz\n",
      "Buzz\n",
      "86\n",
      "Fizz\n",
      "88\n",
      "89\n",
      "FizzBuzz\n",
      "91\n",
      "92\n",
      "Fizz\n",
      "94\n",
      "Buzz\n",
      "Fizz\n",
      "97\n",
      "98\n",
      "Fizz\n",
      "Buzz\n"
     ]
    }
   ],
   "source": [
    "\n",
    "for number in range(1,101):\n",
    "    if(number%3 == 0 and number%5==0):\n",
    "        print('FizzBuzz')\n",
    "    elif(number%3 == 0):\n",
    "        print('Fizz')\n",
    "    elif(number%5 == 0):\n",
    "        print('Buzz')\n",
    "    else:\n",
    "        print(number)"
   ]
  },
  {
   "cell_type": "markdown",
   "metadata": {},
   "source": [
    "I have writtten a simple a code snippet to display(print) the required output\n",
    "  -this code runs a for loop for the range from 1 to 101\n",
    "  -each number in the range is \n",
    "      - first tested to see if its a multiplication of both 3 & 5 and if so, 'FizzBuzz' is displayed(printed) instead of the number\n",
    "      - if this first condition is not met (i.e. first if condition) and if the number is a multiplication of 3, 'Fizz' is displayed(printed) instead of the number\n",
    "      - if the second condition is also not met (i.e. first elif condition) and if the number is a multiplication of 5, 'Buzz' is displayed(printed) instead of the number\n",
    "      - if the third condition is also not met (i.e. second elif condition) the number is not a multiplication of 3 or 5. Hence the number is displayed(printed)\n",
    "  \n",
    "  "
   ]
  }
 ],
 "metadata": {
  "anaconda-cloud": {},
  "kernelspec": {
   "display_name": "Python 3",
   "language": "python",
   "name": "python3"
  },
  "language_info": {
   "codemirror_mode": {
    "name": "ipython",
    "version": 3
   },
   "file_extension": ".py",
   "mimetype": "text/x-python",
   "name": "python",
   "nbconvert_exporter": "python",
   "pygments_lexer": "ipython3",
   "version": "3.7.1"
  }
 },
 "nbformat": 4,
 "nbformat_minor": 2
}
